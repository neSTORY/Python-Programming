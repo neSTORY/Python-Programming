{
 "cells": [
  {
   "cell_type": "markdown",
   "metadata": {},
   "source": [
    "### 5.6.4 함수 장식자(decoration)\n",
    "\n",
    "데코레이터는 기존 함수의 시작 부분과 종료 부분에 기능을 장식해서 꾸며주는 함수를 의미.\n",
    "\n",
    "데코레이터는 @함수명 형태로 함수 앞에 @를 붙인다.\n",
    "\n",
    "ex)\n",
    "\n",
    "@함수 장식자\n",
    "def 함수명():\n",
    "    실행문"
   ]
  },
  {
   "cell_type": "code",
   "execution_count": 1,
   "metadata": {},
   "outputs": [
    {
     "name": "stdout",
     "output_type": "stream",
     "text": [
      "hello\n",
      "hi ~ 홍길동\n",
      "Bye\n"
     ]
    }
   ],
   "source": [
    "# 1. 래퍼 함수\n",
    "def wrap(func):\n",
    "    def decorated():\n",
    "        print(\"hello\") # 시작 부분에 삽입\n",
    "        func()\n",
    "        print(\"Bye\")\n",
    "    return decorated\n",
    "\n",
    "# 2. 함수 장식자 적용\n",
    "@wrap\n",
    "def hello():\n",
    "    print(\"hi ~\", \"홍길동\")\n",
    "\n",
    "# 3. 함수 호출\n",
    "hello()"
   ]
  },
  {
   "cell_type": "code",
   "execution_count": null,
   "metadata": {},
   "outputs": [],
   "source": [
    "ㄴ"
   ]
  }
 ],
 "metadata": {
  "kernelspec": {
   "display_name": "Python 3.9.6 64-bit",
   "language": "python",
   "name": "python3"
  },
  "language_info": {
   "codemirror_mode": {
    "name": "ipython",
    "version": 3
   },
   "file_extension": ".py",
   "mimetype": "text/x-python",
   "name": "python",
   "nbconvert_exporter": "python",
   "pygments_lexer": "ipython3",
   "version": "3.9.6"
  },
  "orig_nbformat": 4,
  "vscode": {
   "interpreter": {
    "hash": "31f2aee4e71d21fbe5cf8b01ff0e069b9275f58929596ceb00d14d90e3e16cd6"
   }
  }
 },
 "nbformat": 4,
 "nbformat_minor": 2
}
