{
 "cells": [
  {
   "cell_type": "markdown",
   "metadata": {},
   "source": [
    "### 함수(Function) vs 메서드(Method)\n",
    "- 함수(Function): 독립된 기능을 수행하는 코드들의 집합\n",
    "- 메서드(Method): 클래스에 포함되어 있는 함수 "
   ]
  },
  {
   "cell_type": "markdown",
   "metadata": {},
   "source": [
    "### 생성자"
   ]
  },
  {
   "cell_type": "code",
   "execution_count": 1,
   "metadata": {},
   "outputs": [
    {
     "name": "stdout",
     "output_type": "stream",
     "text": [
      "곱셈 = 200\n"
     ]
    }
   ],
   "source": [
    "# 1) 생성자 이용 멤버변수 초기화\n",
    "\n",
    "class multiply:\n",
    "    # 멤버변수\n",
    "    x=y=0\n",
    "\n",
    "    # 생성자: 초기화\n",
    "    def __init__(self, x, y):\n",
    "        self.x = x\n",
    "        self.y = y\n",
    "\n",
    "    # 메서드\n",
    "    def mul(self):\n",
    "        return self.x * self.y\n",
    "obj = multiply(10, 20) # 생성자\n",
    "print('곱셈 =', obj.mul())"
   ]
  },
  {
   "cell_type": "code",
   "execution_count": 2,
   "metadata": {},
   "outputs": [
    {
     "name": "stdout",
     "output_type": "stream",
     "text": [
      "곱셈 = 200\n"
     ]
    }
   ],
   "source": [
    "# 2) 메서드 이용 멤버변수 초기화\n",
    "\n",
    "class multiply2:\n",
    "    # 멤버변수\n",
    "    x=y=0\n",
    "\n",
    "    # 생성자 없음: 기본 생성자 제공\n",
    "    def __init__(self):\n",
    "        pass\n",
    "    # 메서드: 멤버변수 초기화\n",
    "    def data(self, x, y):\n",
    "        self.x = x\n",
    "        self.y = y\n",
    "\n",
    "    def mul(self):\n",
    "        return self.x * self.y\n",
    "\n",
    "obj = multiply2() # 기본 생성자\n",
    "obj.data(10, 20) # 동적 멤버변수 생성\n",
    "print('곱셈 =', obj.mul())"
   ]
  },
  {
   "cell_type": "markdown",
   "metadata": {},
   "source": [
    "### self\n",
    "\n",
    "클래스의 생성자와 메서드는 기본적으로 `self`라는 인수를 갖는다.\n",
    "\n",
    "`self`는 클래스를 구성하는 멤버들 즉, 멤버변수와 메서드를 호출하는 역할을 한다.\n",
    "\n",
    "예를 들면, 생성자 안에서 멤버변수에 값을 초기화하거나 메서드 안에서 멤버변수를 참조하거나 또는 다른 메서드를 호출할 경우 이용한다."
   ]
  },
  {
   "cell_type": "markdown",
   "metadata": {},
   "source": [
    "### 클래스 멤버\n",
    "클래스 멤버는 클래스 이름으로 호출할 수 있는 클래스 변수와 클래스 메서드를 말한다.\n",
    "\n",
    "클래스 이름으로 호출할 수 있기 때문에 클래스 멤버를 호출하기 위해서 객체를 생성할 필요는 없다.\n",
    "\n",
    "클래스 메서드는 cls라는 기본인수를 사용하고, @classmethod라는 함수 장식자를 이용하여 선언한다."
   ]
  },
  {
   "cell_type": "code",
   "execution_count": 3,
   "metadata": {},
   "outputs": [
    {
     "name": "stdout",
     "output_type": "stream",
     "text": [
      "날짜 처리 클래스\n",
      "1995\n",
      "1995-10-25\n",
      "날짜 처리 클래스\n",
      "1995년 10월 25일\n"
     ]
    }
   ],
   "source": [
    "# 클래스 멤버 예\n",
    "class DatePro:\n",
    "    # 1) 멤버 변수\n",
    "    content = \"날짜 처리 클래스\"\n",
    "\n",
    "    # 2) 생성자\n",
    "    def __init__(self, year, month, day):\n",
    "        self.year = year\n",
    "        self.month = month\n",
    "        self.day = day\n",
    "\n",
    "    # 3) 객체 메서드\n",
    "    def display(self):\n",
    "        print(\"%d-%d-%d\"%(self.year, self.month, self.day))\n",
    "\n",
    "    # 4) 클래스 메서드(class method)\n",
    "    @classmethod # 함수 장식자\n",
    "    def date_string(cls, dateStr): # '19951025'\n",
    "        year = dateStr[:4]\n",
    "        month = dateStr[4:6]\n",
    "        day = dateStr[6:]\n",
    "\n",
    "        print(f\"{year}년 {month}월 {day}일\")\n",
    "\n",
    "# 5) 객체 멤버\n",
    "date = DatePro(1995, 10, 25)\n",
    "print(date.content)\n",
    "print(date.year)\n",
    "date.display()\n",
    "\n",
    "# 6) 클래스 멤버\n",
    "print(DatePro.content)\n",
    "DatePro.date_string('19951025')"
   ]
  },
  {
   "cell_type": "code",
   "execution_count": null,
   "metadata": {},
   "outputs": [],
   "source": []
  }
 ],
 "metadata": {
  "kernelspec": {
   "display_name": "Python 3.9.6 64-bit",
   "language": "python",
   "name": "python3"
  },
  "language_info": {
   "codemirror_mode": {
    "name": "ipython",
    "version": 3
   },
   "file_extension": ".py",
   "mimetype": "text/x-python",
   "name": "python",
   "nbconvert_exporter": "python",
   "pygments_lexer": "ipython3",
   "version": "3.9.6"
  },
  "orig_nbformat": 4,
  "vscode": {
   "interpreter": {
    "hash": "31f2aee4e71d21fbe5cf8b01ff0e069b9275f58929596ceb00d14d90e3e16cd6"
   }
  }
 },
 "nbformat": 4,
 "nbformat_minor": 2
}
