{
 "cells": [
  {
   "cell_type": "markdown",
   "metadata": {},
   "source": [
    "### 함수(Function) vs 메서드(Method)\n",
    "- 함수(Function): 독립된 기능을 수행하는 코드들의 집합\n",
    "- 메서드(Method): 클래스에 포함되어 있는 함수 "
   ]
  },
  {
   "cell_type": "markdown",
   "metadata": {},
   "source": [
    "### 생성자"
   ]
  },
  {
   "cell_type": "code",
   "execution_count": 1,
   "metadata": {},
   "outputs": [
    {
     "name": "stdout",
     "output_type": "stream",
     "text": [
      "곱셈 = 200\n"
     ]
    }
   ],
   "source": [
    "# 1) 생성자 이용 멤버변수 초기화\n",
    "\n",
    "class multiply:\n",
    "    # 멤버변수\n",
    "    x=y=0\n",
    "\n",
    "    # 생성자: 초기화\n",
    "    def __init__(self, x, y):\n",
    "        self.x = x\n",
    "        self.y = y\n",
    "\n",
    "    # 메서드\n",
    "    def mul(self):\n",
    "        return self.x * self.y\n",
    "obj = multiply(10, 20) # 생성자\n",
    "print('곱셈 =', obj.mul())"
   ]
  },
  {
   "cell_type": "code",
   "execution_count": 2,
   "metadata": {},
   "outputs": [
    {
     "name": "stdout",
     "output_type": "stream",
     "text": [
      "곱셈 = 200\n"
     ]
    }
   ],
   "source": [
    "# 2) 메서드 이용 멤버변수 초기화\n",
    "\n",
    "class multiply2:\n",
    "    # 멤버변수\n",
    "    x=y=0\n",
    "\n",
    "    # 생성자 없음: 기본 생성자 제공\n",
    "    def __init__(self):\n",
    "        pass\n",
    "    # 메서드: 멤버변수 초기화\n",
    "    def data(self, x, y):\n",
    "        self.x = x\n",
    "        self.y = y\n",
    "\n",
    "    def mul(self):\n",
    "        return self.x * self.y\n",
    "\n",
    "obj = multiply2() # 기본 생성자\n",
    "obj.data(10, 20) # 동적 멤버변수 생성\n",
    "print('곱셈 =', obj.mul())"
   ]
  },
  {
   "cell_type": "markdown",
   "metadata": {},
   "source": [
    "### self\n",
    "\n",
    "클래스의 생성자와 메서드는 기본적으로 `self`라는 인수를 갖는다.\n",
    "\n",
    "`self`는 클래스를 구성하는 멤버들 즉, 멤버변수와 메서드를 호출하는 역할을 한다.\n",
    "\n",
    "예를 들면, 생성자 안에서 멤버변수에 값을 초기화하거나 메서드 안에서 멤버변수를 참조하거나 또는 다른 메서드를 호출할 경우 이용한다."
   ]
  },
  {
   "cell_type": "markdown",
   "metadata": {},
   "source": [
    "### 클래스 멤버\n",
    "클래스 멤버는 클래스 이름으로 호출할 수 있는 클래스 변수와 클래스 메서드를 말한다.\n",
    "\n",
    "클래스 이름으로 호출할 수 있기 때문에 클래스 멤버를 호출하기 위해서 객체를 생성할 필요는 없다.\n",
    "\n",
    "클래스 메서드는 cls라는 기본인수를 사용하고, @classmethod라는 함수 장식자를 이용하여 선언한다."
   ]
  },
  {
   "cell_type": "code",
   "execution_count": 1,
   "metadata": {},
   "outputs": [
    {
     "name": "stdout",
     "output_type": "stream",
     "text": [
      "날짜 처리 클래스\n",
      "1995\n",
      "1995-10-25\n",
      "날짜 처리 클래스\n",
      "1995년 10월 25일\n"
     ]
    }
   ],
   "source": [
    "# 클래스 멤버 예\n",
    "class DatePro:\n",
    "    # 1) 멤버 변수\n",
    "    content = \"날짜 처리 클래스\"\n",
    "\n",
    "    # 2) 생성자\n",
    "    def __init__(self, year, month, day):\n",
    "        self.year = year\n",
    "        self.month = month\n",
    "        self.day = day\n",
    "\n",
    "    # 3) 객체 메서드\n",
    "    def display(self):\n",
    "        print(\"%d-%d-%d\"%(self.year, self.month, self.day))\n",
    "\n",
    "    # 4) 클래스 메서드(class method)\n",
    "    @classmethod # 함수 장식자\n",
    "    def date_string(cls, dateStr): # '19951025'\n",
    "        year = dateStr[:4]\n",
    "        month = dateStr[4:6]\n",
    "        day = dateStr[6:]\n",
    "\n",
    "        print(f\"{year}년 {month}월 {day}일\")\n",
    "\n",
    "# 5) 객체 멤버\n",
    "date = DatePro(1995, 10, 25)\n",
    "print(date.content)\n",
    "print(date.year)\n",
    "date.display()\n",
    "\n",
    "# 6) 클래스 멤버\n",
    "print(DatePro.content)\n",
    "DatePro.date_string('19951025')"
   ]
  },
  {
   "cell_type": "markdown",
   "metadata": {},
   "source": [
    "### 6.3 객체지향\n",
    "\n",
    "#### 6.3.1 캡슐화\n",
    "\n",
    "자료와 알고리즘이 구현된 함수를 하나로 묶고 공용 인터페이스만으로 접근을 제한하여 객체의 세부내용을 외부로부터\n",
    "\n",
    "감추는 기법을 캡슐화라고 한다. 클래스에서 은닉정보는 변수 앞부분에 _기호를 연속하여 두개 넣으면 외부에서 접근이 불가능한 은닉 변수가 된다.\n",
    "\n",
    "그리고 은닉 변수를 외부에서 접근할 수 있는 공용 인터페이스는 획득자(getter)와 지정자(setter)로 분류한다.\n",
    "\n",
    "획득자는 외부에서 은닉된 값을 꺼내오는 메서드이고, 지정자는 외부에서 값을 수정하는 메서드이다."
   ]
  },
  {
   "cell_type": "code",
   "execution_count": 13,
   "metadata": {},
   "outputs": [
    {
     "name": "stdout",
     "output_type": "stream",
     "text": [
      "계좌 정보: (1000, '홍길동', '125-152-4125-41')\n",
      "계좌 정보: (11000, '홍길동', '125-152-4125-41')\n"
     ]
    }
   ],
   "source": [
    "# 캡슐화의 예\n",
    "class Account:\n",
    "    # (1) 은닉 멤버변수\n",
    "    __balance = 0 # 잔액\n",
    "    __accName = None # 예금주\n",
    "    __accNo = None # 계좌번호\n",
    "\n",
    "    # (2) 생성자 : 멤버변수 초기화\n",
    "    def __init__(self, bal, name, no):\n",
    "        self.__balance = bal # 잔액 초기화\n",
    "        self.__accName = name # 예금주\n",
    "        self.__accNo = no # 계좌번호\n",
    "\n",
    "    # (3) 계좌정보 확인 : Getter\n",
    "    def getBalance(self):\n",
    "        return self.__balance, self.__accName, self.__accNo\n",
    "\n",
    "    # (4) 입금하기 : Setter\n",
    "    def deposit(self, money):\n",
    "        if money < 0:\n",
    "            print(\"금액확인\")\n",
    "            return # 종료(exit)\n",
    "        self.__balance += money\n",
    "\n",
    "    # (5) 출금하기 : Setter\n",
    "    def withdraw(self, money):\n",
    "        if self.balance < money:\n",
    "            print(\"잔액부족\")\n",
    "            return # 종료(exit)\n",
    "        self.__balance -= money\n",
    "\n",
    "# (6) object 생성\n",
    "acc = Account(1000, \"홍길동\", \"125-152-4125-41\")\n",
    "\n",
    "# (7) Getter 호출\n",
    "# acc.__balance # error\n",
    "bal = acc.getBalance()\n",
    "print(\"계좌 정보:\", bal)\n",
    "\n",
    "# (8) Setter 호출\n",
    "acc.deposit(10000) # 10,000원 입금\n",
    "bal = acc.getBalance()\n",
    "print(\"계좌 정보:\", bal)"
   ]
  },
  {
   "cell_type": "markdown",
   "metadata": {},
   "source": [
    "#### 6.3.2 상속\n",
    "\n",
    "클래스 간의 계층적 관계를 구성하여 높은 수준의 코드 재사용과 다형성의 문법적 토대를 마련.\n",
    "\n",
    "일반적으로 부모클래스는 자식클래스에서 공통으로 사용할 수 있는 멤버를 선언하여 클래스를 정의한다."
   ]
  },
  {
   "cell_type": "markdown",
   "metadata": {},
   "source": [
    "(1) 클래스의 상속\n",
    "\n",
    "기존에 정의된 부모클래스를 이용하여 상속 기법으로 자식클래스를 만드는 형식은 다음과 같다.\n",
    "\n",
    "상속에 의해서 만들어진 자식클래스는 부모의 멤버를 상속받는다.\n",
    "\n"
   ]
  },
  {
   "cell_type": "code",
   "execution_count": 1,
   "metadata": {},
   "outputs": [],
   "source": [
    "# 상속 형태\n",
    "\n",
    "# class 자식클래스(부모클래스):\n",
    "    # pass"
   ]
  },
  {
   "cell_type": "code",
   "execution_count": 2,
   "metadata": {},
   "outputs": [
    {
     "name": "stdout",
     "output_type": "stream",
     "text": [
      "name: 부모, age: 55\n",
      "name: 자식, age: 25, gender: 여자\n"
     ]
    }
   ],
   "source": [
    "# 상속 예\n",
    "\n",
    "# (1) 부모클래스\n",
    "class Super:\n",
    "    # 생성자: 동적멤버 생성\n",
    "    def __init__(self, name, age):\n",
    "        self.name = name\n",
    "        self.age = age\n",
    "    \n",
    "    # 메서드\n",
    "    def display(self):\n",
    "        print(\"name: %s, age: %d\"%(self.name, self.age))\n",
    "\n",
    "sup = Super(\"부모\", 55)\n",
    "sup.display() # 부모 멤버 호출\n",
    "\n",
    "# (2) 자식 클래스\n",
    "class Sub(Super): # 클래스 상속\n",
    "    gender = None # 자식 멤버\n",
    "    \n",
    "    # (3) 생성자\n",
    "    def __init__(self, name, age, gender):\n",
    "        self.name = name\n",
    "        self.age = age\n",
    "        self.gender = gender\n",
    "    \n",
    "    # (4) 메서드 확장\n",
    "    def display(self):\n",
    "        print(\"name: %s, age: %d, gender: %s\"\n",
    "            %(self.name, self.age, self.gender))\n",
    "\n",
    "sub = Sub(\"자식\", 25, \"여자\")\n",
    "sub.display()"
   ]
  },
  {
   "cell_type": "code",
   "execution_count": null,
   "metadata": {},
   "outputs": [],
   "source": []
  }
 ],
 "metadata": {
  "kernelspec": {
   "display_name": "Python 3.9.6 64-bit",
   "language": "python",
   "name": "python3"
  },
  "language_info": {
   "codemirror_mode": {
    "name": "ipython",
    "version": 3
   },
   "file_extension": ".py",
   "mimetype": "text/x-python",
   "name": "python",
   "nbconvert_exporter": "python",
   "pygments_lexer": "ipython3",
   "version": "3.9.6"
  },
  "orig_nbformat": 4,
  "vscode": {
   "interpreter": {
    "hash": "31f2aee4e71d21fbe5cf8b01ff0e069b9275f58929596ceb00d14d90e3e16cd6"
   }
  }
 },
 "nbformat": 4,
 "nbformat_minor": 2
}
